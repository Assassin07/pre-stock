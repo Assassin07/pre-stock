{
 "nbformat": 4,
 "nbformat_minor": 0,
 "metadata": {
  "colab": {
   "provenance": [],
   "gpuType": "T4"
  },
  "kernelspec": {
   "name": "python3",
   "display_name": "Python 3"
  },
  "language_info": {
   "name": "python"
  },
  "accelerator": "GPU"
 },
 "cells": [
  {
   "cell_type": "markdown",
   "source": [
    "# 🚀 A股股票预测深度学习系统 - Google Colab版\n",
    "\n",
    "这是一个基于深度学习的中国A股股票K线图走势预测系统，支持LSTM、GRU和Transformer等多种模型架构。\n",
    "\n",
    "## 📋 使用说明\n",
    "1. 确保已启用GPU：运行时 → 更改运行时类型 → 硬件加速器选择GPU\n",
    "2. 按顺序执行下面的代码块\n",
    "3. 可以修改股票代码和预测参数\n",
    "\n",
    "## ⚠️ 免责声明\n",
    "本系统仅供学习和研究使用，不构成投资建议。投资有风险，入市需谨慎！"
   ],
   "metadata": {
    "id": "title_cell"
   }
  },
  {
   "cell_type": "markdown",
   "source": [
    "## 1️⃣ 环境设置和依赖安装"
   ],
   "metadata": {
    "id": "setup_title"
   }
  },
  {
   "cell_type": "code",
   "source": [
    "# 检查GPU可用性\n",
    "import torch\n",
    "print(f\"🔥 CUDA可用: {torch.cuda.is_available()}\")\n",
    "if torch.cuda.is_available():\n",
    "    print(f\"🎮 GPU设备: {torch.cuda.get_device_name(0)}\")\n",
    "    print(f\"💾 GPU内存: {torch.cuda.get_device_properties(0).total_memory / 1024**3:.1f} GB\")\n",
    "else:\n",
    "    print(\"⚠️ 未检测到GPU，将使用CPU训练（速度较慢）\")"
   ],
   "metadata": {
    "id": "check_gpu"
   },
   "execution_count": null,
   "outputs": []
  },
  {
   "cell_type": "code",
   "source": [
    "# 智能安装依赖包（解决talib-binary问题）\n",
    "print(\"📦 安装依赖包...\")\n",
    "\n",
    "# 安装基础包\n",
    "!pip install -q akshare plotly seaborn tqdm joblib scikit-learn\n",
    "\n",
    "# 智能安装技术指标库\n",
    "print(\"🔧 安装技术指标库...\")\n",
    "try:\n",
    "    # 首选：ta库（纯Python实现，兼容性最好）\n",
    "    !pip install -q ta\n",
    "    print(\"✅ ta 库安装成功\")\n",
    "except:\n",
    "    try:\n",
    "        # 备选：在Colab中安装TA-Lib\n",
    "        !apt-get update > /dev/null 2>&1\n",
    "        !apt-get install -y libta-dev > /dev/null 2>&1\n",
    "        !pip install -q TA-Lib\n",
    "        print(\"✅ TA-Lib 安装成功\")\n",
    "    except:\n",
    "        print(\"⚠️ 技术指标库安装失败，将使用简化版本\")\n",
    "\n",
    "print(\"✅ 依赖包安装完成！\")"
   ],
   "metadata": {
    "id": "install_deps"
   },
   "execution_count": null,
   "outputs": []
  },
  {
   "cell_type": "markdown",
   "source": [
    "## 2️⃣ 上传项目文件\n",
    "\n",
    "请将项目文件打包成zip文件并上传，或者直接运行下面的代码创建项目文件。"
   ],
   "metadata": {
    "id": "upload_title"
   }
  },
  {
   "cell_type": "code",
   "source": [
    "# 方法1: 上传zip文件\n",
    "from google.colab import files\n",
    "import zipfile\n",
    "import os\n",
    "\n",
    "print(\"📁 请上传包含项目文件的zip文件\")\n",
    "uploaded = files.upload()\n",
    "\n",
    "# 解压文件\n",
    "for filename in uploaded.keys():\n",
    "    if filename.endswith('.zip'):\n",
    "        print(f\"📂 解压文件: {filename}\")\n",
    "        with zipfile.ZipFile(filename, 'r') as zip_ref:\n",
    "            zip_ref.extractall('.')\n",
    "        break\n",
    "\n",
    "# 查看文件\n",
    "print(\"\\n📋 项目文件列表:\")\n",
    "!ls -la *.py"
   ],
   "metadata": {
    "id": "upload_files"
   },
   "execution_count": null,
   "outputs": []
  },
  {
   "cell_type": "code",
   "source": [
    "# 方法2: 从GitHub克隆（如果你已经上传到GitHub）\n",
    "# 取消下面的注释并替换为你的GitHub仓库地址\n",
    "\n",
    "# !git clone https://github.com/your-username/stock-prediction.git\n",
    "# %cd stock-prediction\n",
    "# !ls -la"
   ],
   "metadata": {
    "id": "clone_github"
   },
   "execution_count": null,
   "outputs": []
  },
  {
   "cell_type": "markdown",
   "source": [
    "## 3️⃣ 系统测试"
   ],
   "metadata": {
    "id": "test_title"
   }
  },
  {
   "cell_type": "code",
   "source": [
    "# 运行系统测试\n",
    "print(\"🧪 开始系统测试...\")\n",
    "!python test_system.py"
   ],
   "metadata": {
    "id": "run_test"
   },
   "execution_count": null,
   "outputs": []
  },
  {
   "cell_type": "markdown",
   "source": [
    "## 4️⃣ 配置参数（Colab优化版）"
   ],
   "metadata": {
    "id": "config_title"
   }
  },
  {
   "cell_type": "code",
   "source": [
    "# 为Colab环境优化配置参数\n",
    "import warnings\n",
    "warnings.filterwarnings('ignore')\n",
    "\n",
    "# 股票代码配置\n",
    "STOCK_CODE = '000001'  # 平安银行，可以修改为其他股票代码\n",
    "PREDICTION_DAYS = 5    # 预测天数\n",
    "MODEL_TYPE = 'lstm'    # 模型类型: lstm, gru, transformer\n",
    "\n",
    "print(f\"📊 股票代码: {STOCK_CODE}\")\n",
    "print(f\"🔮 预测天数: {PREDICTION_DAYS}\")\n",
    "print(f\"🤖 模型类型: {MODEL_TYPE.upper()}\")\n",
    "\n",
    "# 常用股票代码参考\n",
    "print(\"\\n📈 常用股票代码参考:\")\n",
    "stock_list = {\n",
    "    '000001': '平安银行',\n",
    "    '000002': '万科A',\n",
    "    '600036': '招商银行',\n",
    "    '600519': '贵州茅台',\n",
    "    '000858': '五粮液',\n",
    "    '002415': '海康威视'\n",
    "}\n",
    "\n",
    "for code, name in stock_list.items():\n",
    "    print(f\"  {code}: {name}\")"
   ],
   "metadata": {
    "id": "config_params"
   },
   "execution_count": null,
   "outputs": []
  },
  {
   "cell_type": "markdown",
   "source": [
    "## 5️⃣ 快速预测（推荐）"
   ],
   "metadata": {
    "id": "quick_predict_title"
   }
  },
  {
   "cell_type": "code",
   "source": [
    "# 快速预测 - 一键完成数据获取、训练、预测\n",
    "from main import quick_predict\n",
    "\n",
    "print(f\"🚀 开始预测 {STOCK_CODE} 未来 {PREDICTION_DAYS} 天走势\")\n",
    "print(\"⏳ 这可能需要几分钟时间，请耐心等待...\")\n",
    "\n",
    "result = quick_predict(STOCK_CODE, days=PREDICTION_DAYS)\n",
    "\n",
    "if result:\n",
    "    print(\"\\n🎉 预测完成！\")\n",
    "    print(\"\\n📊 预测结果:\")\n",
    "    print(f\"当前价格: {result['last_price']:.2f}\")\n",
    "    print(\"-\" * 50)\n",
    "    \n",
    "    for i, (date, price) in enumerate(zip(result['dates'], result['predictions'])):\n",
    "        change = price - result['last_price']\n",
    "        change_pct = change / result['last_price'] * 100\n",
    "        direction = \"📈\" if change > 0 else \"📉\" if change < 0 else \"➡️\"\n",
    "        print(f\"第{i+1}天 ({date.strftime('%Y-%m-%d')}): \"\n",
    "              f\"{price:.2f} ({change:+.2f}, {change_pct:+.2f}%) {direction}\")\n",
    "    \n",
    "    # 总体趋势分析\n",
    "    total_change = result['predictions'][-1] - result['last_price']\n",
    "    total_change_pct = total_change / result['last_price'] * 100\n",
    "    \n",
    "    print(\"\\n📈 总体趋势分析:\")\n",
    "    if total_change_pct > 2:\n",
    "        print(f\"🟢 看涨 (+{total_change_pct:.2f}%)\")\n",
    "    elif total_change_pct < -2:\n",
    "        print(f\"🔴 看跌 ({total_change_pct:.2f}%)\")\n",
    "    else:\n",
    "        print(f\"🟡 震荡 ({total_change_pct:+.2f}%)\")\n",
    "        \n",
    "else:\n",
    "    print(\"❌ 预测失败，请检查股票代码或网络连接\")"
   ],
   "metadata": {
    "id": "quick_predict",
    "ExecuteTime": {
     "end_time": "2025-07-27T06:51:58.534263Z",
     "start_time": "2025-07-27T06:51:58.179024Z"
    }
   },
   "outputs": [
    {
     "ename": "ModuleNotFoundError",
     "evalue": "No module named 'akshare'",
     "output_type": "error",
     "traceback": [
      "\u001B[1;31m---------------------------------------------------------------------------\u001B[0m",
      "\u001B[1;31mModuleNotFoundError\u001B[0m                       Traceback (most recent call last)",
      "Cell \u001B[1;32mIn[1], line 2\u001B[0m\n\u001B[0;32m      1\u001B[0m \u001B[38;5;66;03m# 快速预测 - 一键完成数据获取、训练、预测\u001B[39;00m\n\u001B[1;32m----> 2\u001B[0m \u001B[38;5;28;01mfrom\u001B[39;00m\u001B[38;5;250m \u001B[39m\u001B[38;5;21;01mmain\u001B[39;00m\u001B[38;5;250m \u001B[39m\u001B[38;5;28;01mimport\u001B[39;00m quick_predict\n\u001B[0;32m      4\u001B[0m \u001B[38;5;28mprint\u001B[39m(\u001B[38;5;124mf\u001B[39m\u001B[38;5;124m\"\u001B[39m\u001B[38;5;124m🚀 开始预测 \u001B[39m\u001B[38;5;132;01m{\u001B[39;00mSTOCK_CODE\u001B[38;5;132;01m}\u001B[39;00m\u001B[38;5;124m 未来 \u001B[39m\u001B[38;5;132;01m{\u001B[39;00mPREDICTION_DAYS\u001B[38;5;132;01m}\u001B[39;00m\u001B[38;5;124m 天走势\u001B[39m\u001B[38;5;124m\"\u001B[39m)\n\u001B[0;32m      5\u001B[0m \u001B[38;5;28mprint\u001B[39m(\u001B[38;5;124m\"\u001B[39m\u001B[38;5;124m⏳ 这可能需要几分钟时间，请耐心等待...\u001B[39m\u001B[38;5;124m\"\u001B[39m)\n",
      "File \u001B[1;32m~\\PyCharmMiscProject\\main.py:10\u001B[0m\n\u001B[0;32m      7\u001B[0m \u001B[38;5;28;01mimport\u001B[39;00m\u001B[38;5;250m \u001B[39m\u001B[38;5;21;01mwarnings\u001B[39;00m\n\u001B[0;32m      8\u001B[0m warnings\u001B[38;5;241m.\u001B[39mfilterwarnings(\u001B[38;5;124m'\u001B[39m\u001B[38;5;124mignore\u001B[39m\u001B[38;5;124m'\u001B[39m)\n\u001B[1;32m---> 10\u001B[0m \u001B[38;5;28;01mfrom\u001B[39;00m\u001B[38;5;250m \u001B[39m\u001B[38;5;21;01mdata_fetcher\u001B[39;00m\u001B[38;5;250m \u001B[39m\u001B[38;5;28;01mimport\u001B[39;00m StockDataFetcher\n\u001B[0;32m     11\u001B[0m \u001B[38;5;28;01mfrom\u001B[39;00m\u001B[38;5;250m \u001B[39m\u001B[38;5;21;01mdata_preprocessor\u001B[39;00m\u001B[38;5;250m \u001B[39m\u001B[38;5;28;01mimport\u001B[39;00m StockDataPreprocessor\n\u001B[0;32m     12\u001B[0m \u001B[38;5;28;01mfrom\u001B[39;00m\u001B[38;5;250m \u001B[39m\u001B[38;5;21;01mtrainer\u001B[39;00m\u001B[38;5;250m \u001B[39m\u001B[38;5;28;01mimport\u001B[39;00m StockTrainer\n",
      "File \u001B[1;32m~\\PyCharmMiscProject\\data_fetcher.py:5\u001B[0m\n\u001B[0;32m      1\u001B[0m \u001B[38;5;124;03m\"\"\"\u001B[39;00m\n\u001B[0;32m      2\u001B[0m \u001B[38;5;124;03m股票数据获取模块\u001B[39;00m\n\u001B[0;32m      3\u001B[0m \u001B[38;5;124;03m\"\"\"\u001B[39;00m\n\u001B[1;32m----> 5\u001B[0m \u001B[38;5;28;01mimport\u001B[39;00m\u001B[38;5;250m \u001B[39m\u001B[38;5;21;01makshare\u001B[39;00m\u001B[38;5;250m \u001B[39m\u001B[38;5;28;01mas\u001B[39;00m\u001B[38;5;250m \u001B[39m\u001B[38;5;21;01mak\u001B[39;00m\n\u001B[0;32m      6\u001B[0m \u001B[38;5;28;01mimport\u001B[39;00m\u001B[38;5;250m \u001B[39m\u001B[38;5;21;01mpandas\u001B[39;00m\u001B[38;5;250m \u001B[39m\u001B[38;5;28;01mas\u001B[39;00m\u001B[38;5;250m \u001B[39m\u001B[38;5;21;01mpd\u001B[39;00m\n\u001B[0;32m      7\u001B[0m \u001B[38;5;28;01mimport\u001B[39;00m\u001B[38;5;250m \u001B[39m\u001B[38;5;21;01mnumpy\u001B[39;00m\u001B[38;5;250m \u001B[39m\u001B[38;5;28;01mas\u001B[39;00m\u001B[38;5;250m \u001B[39m\u001B[38;5;21;01mnp\u001B[39;00m\n",
      "\u001B[1;31mModuleNotFoundError\u001B[0m: No module named 'akshare'"
     ]
    }
   ],
   "execution_count": 1
  },
  {
   "cell_type": "markdown",
   "source": [
    "## 6️⃣ 详细分析（可选）"
   ],
   "metadata": {
    "id": "detailed_analysis_title"
   }
  },
  {
   "cell_type": "code",
   "source": [
    "# 详细的分步分析\n",
    "print(\"🔍 开始详细分析...\")\n",
    "\n",
    "# 运行完整的预测流程\n",
    "!python main.py --stock_code {STOCK_CODE} --mode both --days {PREDICTION_DAYS} --model_type {MODEL_TYPE}"
   ],
   "metadata": {
    "id": "detailed_analysis"
   },
   "execution_count": null,
   "outputs": []
  },
  {
   "cell_type": "markdown",
   "source": [
    "## 7️⃣ 模型比较（可选）"
   ],
   "metadata": {
    "id": "model_comparison_title"
   }
  },
  {
   "cell_type": "code",
   "source": [
    "# 比较不同模型的性能\n",
    "models = ['lstm', 'gru']  # 在Colab中建议只比较LSTM和GRU，Transformer较耗时\n",
    "results = {}\n",
    "\n",
    "print(\"🏆 开始模型比较...\")\n",
    "\n",
    "for model in models:\n",
    "    print(f\"\\n🤖 训练 {model.upper()} 模型...\")\n",
    "    try:\n",
    "        result = quick_predict(f\"{STOCK_CODE}_{model}\", days=3)  # 减少预测天数以节省时间\n",
    "        if result:\n",
    "            results[model] = result\n",
    "            print(f\"✅ {model.upper()} 模型完成\")\n",
    "        else:\n",
    "            print(f\"❌ {model.upper()} 模型失败\")\n",
    "    except Exception as e:\n",
    "        print(f\"❌ {model.upper()} 模型出错: {str(e)}\")\n",
    "\n",
    "# 显示比较结果\n",
    "if results:\n",
    "    print(\"\\n📊 模型比较结果:\")\n",
    "    print(\"-\" * 60)\n",
    "    for model, result in results.items():\n",
    "        avg_change = sum(result['prediction_change']) / len(result['prediction_change'])\n",
    "        print(f\"{model.upper():<10}: 平均变化 {avg_change:+.2f}\")\n",
    "else:\n",
    "    print(\"❌ 模型比较失败\")"
   ],
   "metadata": {
    "id": "model_comparison"
   },
   "execution_count": null,
   "outputs": []
  },
  {
   "cell_type": "markdown",
   "source": [
    "## 8️⃣ 批量预测（可选）"
   ],
   "metadata": {
    "id": "batch_predict_title"
   }
  },
  {
   "cell_type": "code",
   "source": [
    "# 批量预测多只股票\n",
    "batch_stocks = ['000001', '000002', '600036']  # 可以修改股票列表\n",
    "batch_results = {}\n",
    "\n",
    "print(\"📊 开始批量预测...\")\n",
    "\n",
    "for stock_code in batch_stocks:\n",
    "    print(f\"\\n🔮 预测 {stock_code}...\")\n",
    "    try:\n",
    "        result = quick_predict(stock_code, days=3)\n",
    "        if result:\n",
    "            batch_results[stock_code] = result\n",
    "            print(f\"✅ {stock_code} 预测完成\")\n",
    "        else:\n",
    "            print(f\"❌ {stock_code} 预测失败\")\n",
    "    except Exception as e:\n",
    "        print(f\"❌ {stock_code} 预测出错: {str(e)}\")\n",
    "\n",
    "# 显示批量预测结果\n",
    "if batch_results:\n",
    "    print(\"\\n📈 批量预测结果汇总:\")\n",
    "    print(\"=\" * 60)\n",
    "    \n",
    "    for stock_code, result in batch_results.items():\n",
    "        total_change_pct = (result['predictions'][-1] - result['last_price']) / result['last_price'] * 100\n",
    "        trend = \"📈\" if total_change_pct > 0 else \"📉\"\n",
    "        print(f\"{stock_code}: {result['last_price']:.2f} → {result['predictions'][-1]:.2f} \"\n",
    "              f\"({total_change_pct:+.2f}%) {trend}\")\n",
    "else:\n",
    "    print(\"❌ 批量预测失败\")"
   ],
   "metadata": {
    "id": "batch_predict"
   },
   "execution_count": null,
   "outputs": []
  },
  {
   "cell_type": "markdown",
   "source": [
    "## 9️⃣ 下载结果文件"
   ],
   "metadata": {
    "id": "download_title"
   }
  },
  {
   "cell_type": "code",
   "source": [
    "# 打包并下载结果文件\n",
    "import shutil\n",
    "from google.colab import files\n",
    "\n",
    "print(\"📦 打包结果文件...\")\n",
    "\n",
    "# 创建结果压缩包\n",
    "try:\n",
    "    # 打包模型文件\n",
    "    if os.path.exists('models'):\n",
    "        shutil.make_archive('models', 'zip', 'models')\n",
    "        print(\"✅ 模型文件已打包\")\n",
    "    \n",
    "    # 打包结果文件\n",
    "    if os.path.exists('results'):\n",
    "        shutil.make_archive('results', 'zip', 'results')\n",
    "        print(\"✅ 结果文件已打包\")\n",
    "    \n",
    "    # 打包数据文件\n",
    "    if os.path.exists('data'):\n",
    "        shutil.make_archive('data', 'zip', 'data')\n",
    "        print(\"✅ 数据文件已打包\")\n",
    "    \n",
    "    print(\"\\n📥 开始下载文件...\")\n",
    "    \n",
    "    # 下载文件\n",
    "    for filename in ['models.zip', 'results.zip', 'data.zip']:\n",
    "        if os.path.exists(filename):\n",
    "            files.download(filename)\n",
    "            print(f\"⬇️ {filename} 下载完成\")\n",
    "    \n",
    "    print(\"\\n🎉 所有文件下载完成！\")\n",
    "    \n",
    "except Exception as e:\n",
    "    print(f\"❌ 文件打包下载失败: {str(e)}\")"
   ],
   "metadata": {
    "id": "download_results"
   },
   "execution_count": null,
   "outputs": []
  },
  {
   "cell_type": "markdown",
   "source": [
    "## 🔟 使用提示和注意事项\n",
    "\n",
    "### 💡 使用提示\n",
    "1. **修改股票代码**: 在第4步中修改 `STOCK_CODE` 变量\n",
    "2. **调整预测天数**: 修改 `PREDICTION_DAYS` 变量（建议1-7天）\n",
    "3. **选择模型类型**: 修改 `MODEL_TYPE` 变量（lstm/gru/transformer）\n",
    "4. **保存结果**: 记得在第9步下载训练好的模型和结果\n",
    "\n",
    "### ⚠️ 注意事项\n",
    "1. **GPU限制**: Colab免费版每天有GPU使用时间限制\n",
    "2. **会话超时**: 长时间不活动会断开连接\n",
    "3. **内存限制**: 如遇内存不足，请减少批次大小\n",
    "4. **网络问题**: 数据获取可能因网络问题失败，请重试\n",
    "\n",
    "### 📊 结果解读\n",
    "- **📈 看涨**: 预测价格上涨超过2%\n",
    "- **📉 看跌**: 预测价格下跌超过2%\n",
    "- **🟡 震荡**: 预测价格变化在±2%以内\n",
    "\n",
    "### 🚨 免责声明\n",
    "本系统仅供学习和研究使用，不构成投资建议。股市有风险，投资需谨慎！"
   ],
   "metadata": {
    "id": "tips_and_notes"
   }
  }
 ]
}
